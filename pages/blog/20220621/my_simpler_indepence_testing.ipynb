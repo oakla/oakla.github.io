{
 "cells": [
  {
   "cell_type": "code",
   "execution_count": 9,
   "metadata": {},
   "outputs": [],
   "source": [
    "from numpy.random import default_rng\n",
    "\n",
    "import numpy as np\n"
   ]
  },
  {
   "cell_type": "markdown",
   "metadata": {},
   "source": [
    "Create the data"
   ]
  },
  {
   "cell_type": "code",
   "execution_count": null,
   "metadata": {},
   "outputs": [],
   "source": []
  },
  {
   "cell_type": "code",
   "execution_count": 10,
   "metadata": {},
   "outputs": [],
   "source": [
    "rng = default_rng()\n",
    "\n",
    "outcomes = []\n",
    "\n",
    "for i in range(5000):\n",
    "    if(rng.random() > 0.5):\n",
    "        first = 0 # Head\n",
    "    else:\n",
    "        first = 1 # Tail\n",
    "    if(rng.random() > 0.5):\n",
    "        second = 0 # Head\n",
    "    else:\n",
    "        second = 1 # Tail\n",
    "    outcomes.append((first, second))"
   ]
  },
  {
   "cell_type": "markdown",
   "metadata": {},
   "source": [
    "Test the data"
   ]
  },
  {
   "cell_type": "code",
   "execution_count": 11,
   "metadata": {},
   "outputs": [],
   "source": [
    "# What are the counts\n",
    "count_all = 0\n",
    "count_H = 0\n",
    "count_T = 0\n",
    "count_H1 = 0\n",
    "count_T1 = 0\n",
    "count_H2 = 0\n",
    "count_T2 = 0\n",
    "count_H2_given_H1 = 0\n",
    "count_H2_given_T1 = 0\n",
    "count_T2_given_H1 = 0\n",
    "count_T2_given_T1 = 0\n",
    "\n",
    "H1_trials = []\n",
    "T1_trials = []\n",
    "\n",
    "for t in outcomes:\n",
    "    count_all += 1\n",
    "    if(t[0] == 0):\n",
    "        count_H1 += 1\n",
    "        H1_trials.append(t[1])\n",
    "    else:\n",
    "        count_T1 += 1\n",
    "        T1_trials.append(t[1])\n",
    "\n",
    "for t in H1_trials:\n",
    "    count_all += 1\n",
    "    if(t == 0):\n",
    "        count_H2 += 1\n",
    "        count_H2_given_H1 +=1\n",
    "    else:\n",
    "        count_T2 += 1\n",
    "        count_T2_given_H1 += 1\n",
    "\n",
    "for t in T1_trials:\n",
    "    count_all += 1\n",
    "    if(t == 0):\n",
    "        count_H2 += 1\n",
    "        count_H2_given_T1 +=1\n",
    "    else:\n",
    "        count_T2 += 1\n",
    "        count_T2_given_T1 +=1\n",
    "\n",
    "count_H = count_H1 + count_H2\n",
    "count_T = count_T1 + count_T2"
   ]
  },
  {
   "cell_type": "code",
   "execution_count": 12,
   "metadata": {},
   "outputs": [
    {
     "name": "stdout",
     "output_type": "stream",
     "text": [
      "0.4966\n"
     ]
    }
   ],
   "source": [
    "# P(H)\n",
    "print(count_H/count_all)"
   ]
  },
  {
   "cell_type": "code",
   "execution_count": 13,
   "metadata": {},
   "outputs": [
    {
     "name": "stdout",
     "output_type": "stream",
     "text": [
      "0.49238782051282054\n"
     ]
    }
   ],
   "source": [
    "# P(H2|H1)\n",
    "print(count_H2_given_H1 / count_H1)"
   ]
  },
  {
   "cell_type": "code",
   "execution_count": 14,
   "metadata": {},
   "outputs": [
    {
     "name": "stdout",
     "output_type": "stream",
     "text": [
      "0.4956070287539936\n"
     ]
    }
   ],
   "source": [
    "# P(H2|T1)\n",
    "print(count_H2_given_T1/count_T1)"
   ]
  },
  {
   "cell_type": "code",
   "execution_count": 15,
   "metadata": {},
   "outputs": [
    {
     "name": "stdout",
     "output_type": "stream",
     "text": [
      "0.5076121794871795\n"
     ]
    }
   ],
   "source": [
    "# P(T2|H1)\n",
    "print(count_T2_given_H1 / count_H1)"
   ]
  },
  {
   "cell_type": "code",
   "execution_count": 16,
   "metadata": {},
   "outputs": [
    {
     "name": "stdout",
     "output_type": "stream",
     "text": [
      "0.5043929712460063\n"
     ]
    }
   ],
   "source": [
    "# P(T2|T1)\n",
    "print(count_T2_given_T1/count_T1)"
   ]
  },
  {
   "cell_type": "code",
   "execution_count": null,
   "metadata": {},
   "outputs": [],
   "source": []
  }
 ],
 "metadata": {
  "kernelspec": {
   "display_name": "Python 3.10.5 64-bit",
   "language": "python",
   "name": "python3"
  },
  "language_info": {
   "codemirror_mode": {
    "name": "ipython",
    "version": 3
   },
   "file_extension": ".py",
   "mimetype": "text/x-python",
   "name": "python",
   "nbconvert_exporter": "python",
   "pygments_lexer": "ipython3",
   "version": "3.10.5"
  },
  "orig_nbformat": 4,
  "vscode": {
   "interpreter": {
    "hash": "369f2c481f4da34e4445cda3fffd2e751bd1c4d706f27375911949ba6bb62e1c"
   }
  }
 },
 "nbformat": 4,
 "nbformat_minor": 2
}
